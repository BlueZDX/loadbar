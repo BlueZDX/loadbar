{
 "cells": [
  {
   "cell_type": "code",
   "execution_count": 11,
   "metadata": {},
   "outputs": [
    {
     "name": "stdout",
     "output_type": "stream",
     "text": [
      "|{bar}| {pecent:.2f}%\r"
     ]
    }
   ],
   "source": [
    "import math\n",
    "\n",
    "def progress_bar(progress, total):\n",
    "    percent = 100 * (progress / float(total))\n",
    "    bar = '#' * int(percent) + '-' * (100 - int(percent))\n",
    "    print(\"\\r|{bar}| {pecent:.2f}%\", end=\"\\r\")\n",
    "    \n",
    "numbers = [x * 5 for x in range(2000, 3000)]\n",
    "results = []\n",
    "\n",
    "progress_bar(0, len(numbers))\n",
    "for i, x in enumerate(numbers):\n",
    "    results.append(math.factorial(x))\n",
    "    progress_bar(i + 1, len(numbers))"
   ]
  }
 ],
 "metadata": {
  "kernelspec": {
   "display_name": "Python 3 (ipykernel)",
   "language": "python",
   "name": "python3"
  },
  "language_info": {
   "codemirror_mode": {
    "name": "ipython",
    "version": 3
   },
   "file_extension": ".py",
   "mimetype": "text/x-python",
   "name": "python",
   "nbconvert_exporter": "python",
   "pygments_lexer": "ipython3",
   "version": "3.9.10+"
  }
 },
 "nbformat": 4,
 "nbformat_minor": 2
}
